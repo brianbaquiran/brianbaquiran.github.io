{
 "cells": [
  {
   "cell_type": "markdown",
   "metadata": {},
   "source": [
    "![](/images/sfsvwordcloud.png?raw=true)\n",
    "\n",
    "Source: [San Francisco startup descriptions vs. Silicon Valley startup descriptions using Crunchbase data]( https://www.reddit.com/r/dataisbeautiful/comments/6cnbil/san_francisco_startup_descriptions_vs_silicon/)"
   ]
  },
  {
   "cell_type": "code",
   "execution_count": 2,
   "metadata": {
    "collapsed": true
   },
   "outputs": [],
   "source": [
    "import pandas as pd\n",
    "from nltk.tokenize import word_tokenize\n",
    "from nltk.corpus import stopwords\n",
    "from string import punctuation"
   ]
  },
  {
   "cell_type": "markdown",
   "metadata": {},
   "source": [
    "I went to the [Kickstart](http://www.kickstart.ph/) and [Ideaspace](http://www.ideaspacefoundation.org) websites and scraped the descriptions of the startups they funded. \n",
    "\n",
    "And by _scraped_, I mean I cut-and-paste stuff into a Google Sheets document. "
   ]
  },
  {
   "cell_type": "code",
   "execution_count": 3,
   "metadata": {
    "collapsed": false
   },
   "outputs": [],
   "source": [
    "raw = pd.read_csv(\"../files/Philippine Startups - Sheet1.csv\")"
   ]
  },
  {
   "cell_type": "code",
   "execution_count": 4,
   "metadata": {
    "collapsed": false
   },
   "outputs": [
    {
     "data": {
      "text/plain": [
       "0    Arthrologic designs and develops a TKA (Total ...\n",
       "1    ​BluLemons Gaming Studio is an all-Filipino th...\n",
       "2    Croo enables people to swiftly send informatio...\n",
       "3    The Company has the opportunity to create the ...\n",
       "4    Despite current transponder technologies avail...\n",
       "Name: Long Description, dtype: object"
      ]
     },
     "execution_count": 4,
     "metadata": {},
     "output_type": "execute_result"
    }
   ],
   "source": [
    "descriptions = raw['Long Description']\n",
    "descriptions.head()"
   ]
  },
  {
   "cell_type": "code",
   "execution_count": 5,
   "metadata": {
    "collapsed": true
   },
   "outputs": [],
   "source": [
    "raw_words = word_tokenize(\" \".join(descriptions))"
   ]
  },
  {
   "cell_type": "code",
   "execution_count": 6,
   "metadata": {
    "collapsed": true
   },
   "outputs": [],
   "source": [
    "stop_words = set(stopwords.words('english') + list(punctuation))\n",
    "\n",
    "words = [w.lower() for w in raw_words if w.lower() not in stop_words and not w.isdigit() and len(w) > 3]"
   ]
  },
  {
   "cell_type": "code",
   "execution_count": 7,
   "metadata": {
    "collapsed": false
   },
   "outputs": [
    {
     "data": {
      "text/plain": [
       "['arthrologic',\n",
       " 'designs',\n",
       " 'develops',\n",
       " 'total',\n",
       " 'knee',\n",
       " 'arthroplasty',\n",
       " 'system',\n",
       " 'simple',\n",
       " 'evidence-based',\n",
       " 'utilizing',\n",
       " 'successful',\n",
       " 'clinical',\n",
       " 'data',\n",
       " 'improve',\n",
       " 'surgical',\n",
       " 'skills',\n",
       " 'easy-to-use',\n",
       " 'surgeon-friendly',\n",
       " 'instrumentation',\n",
       " 'assure']"
      ]
     },
     "execution_count": 7,
     "metadata": {},
     "output_type": "execute_result"
    }
   ],
   "source": [
    "words[:20]"
   ]
  },
  {
   "cell_type": "code",
   "execution_count": 8,
   "metadata": {
    "collapsed": false
   },
   "outputs": [
    {
     "data": {
      "text/plain": [
       "'arthrologic designs develops total knee arthroplasty system simple evidence-based utilizing successful clinical data improve surgical skills easy-to-use surgeon-friendly instrumentation assure successful predictable results offer competitive cost provide greater majority patients access technology improve living \\u200bthe product asian-fit 2-component total knee arthroplasty system definitive surgical treatment severe end-stage osteoarthritic knees \\u200bblulemons gaming studio all-filipino theme mobile gaming studio develop games based filipino culture \\u200bthey believe creating mobile games great avenue showcase philippines offer globally vision create games impact filipino youth across cultures croo enables people swiftly send information loved ones need arises without typing anything calling anyone button accessory clicked sent predetermined emergency contacts smartphone application text message contains important information person’s current location nearby landmarks person’s contacts equipped '"
      ]
     },
     "execution_count": 8,
     "metadata": {},
     "output_type": "execute_result"
    }
   ],
   "source": [
    "word_str = \" \".join(words)\n",
    "word_str[:1000]"
   ]
  },
  {
   "cell_type": "code",
   "execution_count": 9,
   "metadata": {
    "collapsed": false
   },
   "outputs": [],
   "source": [
    "with open(\"../files/phstartupwords.txt\",\"w\") as f:\n",
    "    f.write(word_str)"
   ]
  },
  {
   "cell_type": "markdown",
   "metadata": {},
   "source": [
    "## Lazy Wordcloud Visualization\n",
    "Enter the contents of the [file](../phstartupwords.txt) generated into http://www.wordclouds.com/, and manually remove the words that occur less than 3 times:\n",
    "![](/images/wordcloud.png?raw=true)\n"
   ]
  }
 ],
 "metadata": {
  "kernelspec": {
   "display_name": "Python 3",
   "language": "python",
   "name": "python3"
  },
  "language_info": {
   "codemirror_mode": {
    "name": "ipython",
    "version": 3
   },
   "file_extension": ".py",
   "mimetype": "text/x-python",
   "name": "python",
   "nbconvert_exporter": "python",
   "pygments_lexer": "ipython3",
   "version": "3.5.2"
  },
  "nikola": {
   "category": "",
   "date": "2017-05-23 10:58:28 UTC+08:00",
   "description": "",
   "link": "",
   "slug": "philippine-startups-wordcloud",
   "tags": "",
   "title": "Philippine Startups Wordcloud",
   "type": "text"
  }
 },
 "nbformat": 4,
 "nbformat_minor": 2
}
